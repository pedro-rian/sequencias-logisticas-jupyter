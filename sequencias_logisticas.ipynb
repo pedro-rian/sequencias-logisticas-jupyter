{
 "cells": [
  {
   "cell_type": "markdown",
   "id": "a76dd10b-e0f8-48c0-b698-b1608e7b3ab7",
   "metadata": {},
   "source": [
    "# Sequências Logísticas"
   ]
  },
  {
   "cell_type": "markdown",
   "id": "589a1f67-f3c2-44d9-8f9b-7a4471803fff",
   "metadata": {},
   "source": [
    "## Equação de Diferença Logística:\n",
    "Na ecologia, essa sequência aparece como um modelo para o crescimento populacional, definida como:\n",
    "\n",
    "$p_{n+1} = kp_n(1 - p_n)$"
   ]
  },
  {
   "cell_type": "markdown",
   "id": "d0180688-65cb-4217-a9dc-8347c9044074",
   "metadata": {},
   "source": [
    "> $p_n$ é o tamanho da n-ésima população de uma única espécie.\n",
    "> \n",
    "> $p_n$ representa uma fração do tamanho máximo da população, de modo que: $0 \\leq p_n \\leq 1$."
   ]
  },
  {
   "cell_type": "markdown",
   "id": "5aa5265a-48e2-48d1-865c-6f90ddb32fba",
   "metadata": {},
   "source": [
    "## Objetivo da implementação:"
   ]
  },
  {
   "cell_type": "markdown",
   "id": "10a40b69-44b3-4438-8ea1-43ec14ea7a41",
   "metadata": {},
   "source": [
    "Desenvolver um programa capaz de calcular os $n$ primeiros termos da sequência $p_n$, ccomeçando com um população inicial $p_0$, onde $0 \\leq p_0 \\leq 1$."
   ]
  },
  {
   "cell_type": "markdown",
   "id": "2a3d3f43-1a67-4a41-93a9-4052ee152ddd",
   "metadata": {},
   "source": [
    "\n",
    "### Desafio 1:"
   ]
  },
  {
   "cell_type": "markdown",
   "id": "af30c9e6-7f36-4381-af31-c968fcbfecca",
   "metadata": {},
   "source": [
    "Calcular 20 ou 30 termos da sequência para $p_0 = \\frac{1}{2}$ para dois valores de $k$ tal que $1 < k < 3$. Faça um gráfico para cada sequência:"
   ]
  },
  {
   "cell_type": "code",
   "execution_count": null,
   "id": "59b8ee90-2e65-4213-808c-0b31a1e37e86",
   "metadata": {},
   "outputs": [],
   "source": [
    "#variáveis a serem utilizadas:\n",
    "p0 = 1/2\n",
    "k1 = 2\n",
    "k2 = 1.5\n",
    "\n"
   ]
  }
 ],
 "metadata": {
  "kernelspec": {
   "display_name": "Python 3 (ipykernel)",
   "language": "python",
   "name": "python3"
  },
  "language_info": {
   "codemirror_mode": {
    "name": "ipython",
    "version": 3
   },
   "file_extension": ".py",
   "mimetype": "text/x-python",
   "name": "python",
   "nbconvert_exporter": "python",
   "pygments_lexer": "ipython3",
   "version": "3.10.12"
  }
 },
 "nbformat": 4,
 "nbformat_minor": 5
}
